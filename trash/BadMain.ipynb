{
 "cells": [
  {
   "cell_type": "code",
   "execution_count": 3,
   "metadata": {},
   "outputs": [],
   "source": [
    "def main():\n",
    "    # Define a filename.\n",
    "    filename = \"Test.csv\"\n",
    "\n",
    "    # Open the file as f.\n",
    "    # The function readlines() reads the file.\n",
    "    with open(filename) as f:\n",
    "        content = f.readlines()\n",
    "\n",
    "    # Show the file contents line by line.\n",
    "    # We added the comma to print single newlines and not double newlines.\n",
    "    # This is because the lines contain the newline character '\\n'.\n",
    "    for line in content:\n",
    "        print(line),"
   ]
  },
  {
   "cell_type": "code",
   "execution_count": 4,
   "metadata": {},
   "outputs": [
    {
     "name": "stdout",
     "output_type": "stream",
     "text": [
      "Prop; ;;;\n",
      "\n",
      "#P_id;dens;E;v;A\n",
      "\n",
      "0;7800;1000;0.3;\n",
      "\n",
      "Nodes; ;;;\n",
      "\n",
      "# N_id;x;y;;\n",
      "\n",
      "0;0;0; ;\n",
      "\n",
      "1;1;1;;\n",
      "\n",
      "2;2;1;;\n",
      "\n",
      "Elements; ;;;\n",
      "\n",
      "#E_id;from;to;prop;\n",
      "\n",
      "0;0;1;0;\n",
      "\n",
      "1;1;2;0;\n",
      "\n",
      "In_Conds_U; ;;;\n",
      "\n",
      "#I_U_id;N_id;u_x;u_y;\n",
      "\n",
      "0;0;1;1;\n",
      "\n",
      "In_Conds_F; ;;;\n",
      "\n",
      "#I_F_id;N_id;Fx;Fy;\n",
      "\n",
      "0;1;3;4;\n",
      "\n"
     ]
    }
   ],
   "source": [
    "main()"
   ]
  },
  {
   "cell_type": "code",
   "execution_count": null,
   "metadata": {},
   "outputs": [],
   "source": [
    "for "
   ]
  }
 ],
 "metadata": {
  "kernelspec": {
   "display_name": "Python 3",
   "language": "python",
   "name": "python3"
  },
  "language_info": {
   "codemirror_mode": {
    "name": "ipython",
    "version": 3
   },
   "file_extension": ".py",
   "mimetype": "text/x-python",
   "name": "python",
   "nbconvert_exporter": "python",
   "pygments_lexer": "ipython3",
   "version": "3.7.4"
  }
 },
 "nbformat": 4,
 "nbformat_minor": 4
}
