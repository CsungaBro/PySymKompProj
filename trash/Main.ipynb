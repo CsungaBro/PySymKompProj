{
 "cells": [
  {
   "cell_type": "code",
   "execution_count": 2,
   "metadata": {},
   "outputs": [],
   "source": [
    "import csv"
   ]
  },
  {
   "cell_type": "code",
   "execution_count": 39,
   "metadata": {},
   "outputs": [
    {
     "name": "stdout",
     "output_type": "stream",
     "text": [
      "[[2, 3], [5, 8], [10, 12], [14, 15], [17, 18]]\n",
      "[['0', '7800', '1000', '0.3', '']]\n",
      "[['0', '0', '0', ' ', ''], ['1', '1', '1', '', ''], ['2', '2', '1', '', '']]\n",
      "[['0', '0', '1', '0', ''], ['1', '1', '2', '0', '']]\n",
      "[['0', '0', '1', '1', '']]\n",
      "[['0', '1', '3', '4', '']]\n"
     ]
    }
   ],
   "source": [
    "prop = []\n",
    "nodes = []\n",
    "elements = []\n",
    "condU = []\n",
    "condF  = []\n",
    "\n",
    "variablesArray =[\n",
    "    prop,\n",
    "    nodes,\n",
    "    elements,\n",
    "    condU,\n",
    "    condF\n",
    "]\n",
    "\n",
    "def csv_toVar(csv_File):\n",
    "    with open(csv_File, \"r\") as csv_file:\n",
    "        csv_reader = csv.reader(csv_file, delimiter =\";\")\n",
    "        lines = [line for line in csv_reader]\n",
    "        varNames=[\n",
    "            \"Prop\",\n",
    "            \"Nodes\",\n",
    "            \"Elements\",\n",
    "            \"In_Conds_U\",\n",
    "            \"In_Conds_F\",\n",
    "            \"End\"\n",
    "        ]\n",
    "        rowCounter = [\n",
    "            0,#Prop\n",
    "            0,#Nodes\n",
    "            0,#Elements\n",
    "            0,#In_Conds_U\n",
    "            0,#In_Conds_F\n",
    "            0,#End\n",
    "        ]\n",
    "        rangeCounter = [\n",
    "            [],#PropRange:\n",
    "            [],#NodesRange\n",
    "            [],#ElementsRange\n",
    "            [],#In_Conds_URange\n",
    "            []#In_Conds_FRange\n",
    "        ]\n",
    "\n",
    "        dataRowCounter(lines,varNames,rowCounter)\n",
    "        rangeMaker(rangeCounter,rowCounter)\n",
    "        \n",
    "        print(rangeCounter)\n",
    "        \n",
    "        dataToArray(variablesArray,rangeCounter,lines)\n",
    "        \n",
    "        dataPrinter(variablesArray)\n",
    "        \n",
    "        \n",
    "                \n",
    "def dataRowCounter(data,name,dataTo):\n",
    "    for i in range(len(data)):\n",
    "        for j in range(len(name)):\n",
    "            if data[i][0] == name[j]:\n",
    "                dataTo[j] = i + 2\n",
    "    dataTo[5] = len(data) + 2\n",
    "            \n",
    "def rangeMaker(ranges,rows): \n",
    "    for i in range(len(ranges)):\n",
    "        ranges[i].append(rows[i])\n",
    "        ranges[i].append(rows[i+1]-2)\n",
    "    \n",
    "def dataToArray(variab,rang,data):\n",
    "    for i in range(len(variab)):\n",
    "        h1 = rang[i][0]\n",
    "        h2 = rang[i][1]\n",
    "        for j in range(h1,h2):\n",
    "            variab[i].append(data[j])\n",
    "\n",
    "def arrayCleaner(array):\n",
    "    for i in array:\n",
    "        if i == '':\n",
    "            array.pop(i)\n",
    "\n",
    "def dataPrinter(data):\n",
    "    for i in data:\n",
    "        print(i)\n",
    "csv_toVar('Test.csv')"
   ]
  },
  {
   "cell_type": "code",
   "execution_count": null,
   "metadata": {},
   "outputs": [],
   "source": []
  }
 ],
 "metadata": {
  "kernelspec": {
   "display_name": "Python 3",
   "language": "python",
   "name": "python3"
  },
  "language_info": {
   "codemirror_mode": {
    "name": "ipython",
    "version": 3
   },
   "file_extension": ".py",
   "mimetype": "text/x-python",
   "name": "python",
   "nbconvert_exporter": "python",
   "pygments_lexer": "ipython3",
   "version": "3.7.4"
  }
 },
 "nbformat": 4,
 "nbformat_minor": 4
}
