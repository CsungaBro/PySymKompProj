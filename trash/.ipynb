{
 "cells": [
  {
   "cell_type": "code",
   "execution_count": 119,
   "metadata": {},
   "outputs": [],
   "source": [
    "import csv"
   ]
  },
  {
   "cell_type": "code",
   "execution_count": 120,
   "metadata": {},
   "outputs": [],
   "source": [
    "prop = []\n",
    "nodes = []\n",
    "elements = []\n",
    "condU = []\n",
    "condF  = []\n",
    "\n",
    "variablesArray =[\n",
    "    prop,\n",
    "    nodes,\n",
    "    elements,\n",
    "    condU,\n",
    "    condF\n",
    "]"
   ]
  },
  {
   "cell_type": "code",
   "execution_count": 121,
   "metadata": {},
   "outputs": [],
   "source": [
    "def dataRowCounter(data,name,dataTo):\n",
    "    for i in range(len(data)):\n",
    "        for j in range(len(name)):\n",
    "            if data[i][0] == name[j]:\n",
    "                dataTo[j] = i + 2\n",
    "    dataTo[5] = len(data) + 2"
   ]
  },
  {
   "cell_type": "code",
   "execution_count": 122,
   "metadata": {},
   "outputs": [],
   "source": [
    "def rangeMaker(ranges,rows): \n",
    "    for i in range(len(ranges)):\n",
    "        ranges[i].append(rows[i])\n",
    "        ranges[i].append(rows[i+1]-2)"
   ]
  },
  {
   "cell_type": "code",
   "execution_count": 123,
   "metadata": {},
   "outputs": [],
   "source": [
    "def dataToArray(variab,rang,data):\n",
    "    for i in range(len(variab)):\n",
    "        h1 = rang[i][0]\n",
    "        h2 = rang[i][1]\n",
    "        for j in range(h1,h2):\n",
    "            variab[i].append(data[j])"
   ]
  },
  {
   "cell_type": "code",
   "execution_count": 124,
   "metadata": {},
   "outputs": [],
   "source": [
    "def arrayCleaner(array):\n",
    "    for data in array:\n",
    "        for row in data:\n",
    "            for i in range(len(row)):\n",
    "                print(row[i])\n",
    "                if row[i] == '':\n",
    "                    del row[i]\n",
    "                print(row)"
   ]
  },
  {
   "cell_type": "code",
   "execution_count": 125,
   "metadata": {},
   "outputs": [],
   "source": [
    "def dataPrinter(data):\n",
    "    for i in data:\n",
    "        print(i)"
   ]
  },
  {
   "cell_type": "code",
   "execution_count": 126,
   "metadata": {},
   "outputs": [],
   "source": [
    "def csv_toVar(csv_File,varArray):\n",
    "    with open(csv_File, \"r\") as csv_file:\n",
    "        csv_reader = csv.reader(csv_file, delimiter =\";\")\n",
    "        lines = [line for line in csv_reader]\n",
    "    varNames=[\n",
    "        \"Prop\",\n",
    "        \"Nodes\",\n",
    "        \"Elements\",\n",
    "        \"In_Conds_U\",\n",
    "        \"In_Conds_F\",\n",
    "        \"End\"\n",
    "    ]\n",
    "    rowCounter = [\n",
    "        0,#Prop\n",
    "        0,#Nodes\n",
    "        0,#Elements\n",
    "        0,#In_Conds_U\n",
    "        0,#In_Conds_F\n",
    "        0,#End\n",
    "    ]\n",
    "    rangeCounter = [\n",
    "        [],#PropRange:\n",
    "        [],#NodesRange\n",
    "        [],#ElementsRange\n",
    "        [],#In_Conds_URange\n",
    "        []#In_Conds_FRange\n",
    "    ]\n",
    "    dataRowCounter(lines,varNames,rowCounter)\n",
    "    rangeMaker(rangeCounter,rowCounter)\n",
    "    dataToArray(varArray,rangeCounter,lines)\n",
    "    dataPrinter(varArray)\n",
    "    arrayCleaner(varArray)\n",
    "    dataPrinter(varArray)"
   ]
  },
  {
   "cell_type": "code",
   "execution_count": 127,
   "metadata": {},
   "outputs": [
    {
     "name": "stdout",
     "output_type": "stream",
     "text": [
      "[['0', '7800', '1000', '0.3', '']]\n",
      "[['0', '0', '0', ' ', ''], ['1', '1', '1', '', ''], ['2', '2', '1', '', '']]\n",
      "[['0', '0', '1', '0', ''], ['1', '1', '2', '0', '']]\n",
      "[['0', '0', '1', '1', '']]\n",
      "[['0', '1', '3', '4', '']]\n",
      "0\n",
      "['0', '7800', '1000', '0.3', '']\n",
      "7800\n",
      "['0', '7800', '1000', '0.3', '']\n",
      "1000\n",
      "['0', '7800', '1000', '0.3', '']\n",
      "0.3\n",
      "['0', '7800', '1000', '0.3', '']\n",
      "\n",
      "['0', '7800', '1000', '0.3']\n",
      "0\n",
      "['0', '0', '0', ' ', '']\n",
      "0\n",
      "['0', '0', '0', ' ', '']\n",
      "0\n",
      "['0', '0', '0', ' ', '']\n",
      " \n",
      "['0', '0', '0', ' ', '']\n",
      "\n",
      "['0', '0', '0', ' ']\n",
      "1\n",
      "['1', '1', '1', '', '']\n",
      "1\n",
      "['1', '1', '1', '', '']\n",
      "1\n",
      "['1', '1', '1', '', '']\n",
      "\n",
      "['1', '1', '1', '']\n"
     ]
    },
    {
     "ename": "IndexError",
     "evalue": "list index out of range",
     "output_type": "error",
     "traceback": [
      "\u001b[1;31m---------------------------------------------------------------------------\u001b[0m",
      "\u001b[1;31mIndexError\u001b[0m                                Traceback (most recent call last)",
      "\u001b[1;32m<ipython-input-127-ba3415080e07>\u001b[0m in \u001b[0;36m<module>\u001b[1;34m\u001b[0m\n\u001b[1;32m----> 1\u001b[1;33m \u001b[0mcsv_toVar\u001b[0m\u001b[1;33m(\u001b[0m\u001b[1;34m'Test.csv'\u001b[0m\u001b[1;33m,\u001b[0m\u001b[0mvariablesArray\u001b[0m\u001b[1;33m)\u001b[0m\u001b[1;33m\u001b[0m\u001b[1;33m\u001b[0m\u001b[0m\n\u001b[0m",
      "\u001b[1;32m<ipython-input-126-952e9a1c951f>\u001b[0m in \u001b[0;36mcsv_toVar\u001b[1;34m(csv_File, varArray)\u001b[0m\n\u001b[0;32m     30\u001b[0m     \u001b[0mdataToArray\u001b[0m\u001b[1;33m(\u001b[0m\u001b[0mvarArray\u001b[0m\u001b[1;33m,\u001b[0m\u001b[0mrangeCounter\u001b[0m\u001b[1;33m,\u001b[0m\u001b[0mlines\u001b[0m\u001b[1;33m)\u001b[0m\u001b[1;33m\u001b[0m\u001b[1;33m\u001b[0m\u001b[0m\n\u001b[0;32m     31\u001b[0m     \u001b[0mdataPrinter\u001b[0m\u001b[1;33m(\u001b[0m\u001b[0mvarArray\u001b[0m\u001b[1;33m)\u001b[0m\u001b[1;33m\u001b[0m\u001b[1;33m\u001b[0m\u001b[0m\n\u001b[1;32m---> 32\u001b[1;33m     \u001b[0marrayCleaner\u001b[0m\u001b[1;33m(\u001b[0m\u001b[0mvarArray\u001b[0m\u001b[1;33m)\u001b[0m\u001b[1;33m\u001b[0m\u001b[1;33m\u001b[0m\u001b[0m\n\u001b[0m\u001b[0;32m     33\u001b[0m     \u001b[0mdataPrinter\u001b[0m\u001b[1;33m(\u001b[0m\u001b[0mvarArray\u001b[0m\u001b[1;33m)\u001b[0m\u001b[1;33m\u001b[0m\u001b[1;33m\u001b[0m\u001b[0m\n",
      "\u001b[1;32m<ipython-input-124-77484483ec5c>\u001b[0m in \u001b[0;36marrayCleaner\u001b[1;34m(array)\u001b[0m\n\u001b[0;32m      3\u001b[0m         \u001b[1;32mfor\u001b[0m \u001b[0mrow\u001b[0m \u001b[1;32min\u001b[0m \u001b[0mdata\u001b[0m\u001b[1;33m:\u001b[0m\u001b[1;33m\u001b[0m\u001b[1;33m\u001b[0m\u001b[0m\n\u001b[0;32m      4\u001b[0m             \u001b[1;32mfor\u001b[0m \u001b[0mi\u001b[0m \u001b[1;32min\u001b[0m \u001b[0mrange\u001b[0m\u001b[1;33m(\u001b[0m\u001b[0mlen\u001b[0m\u001b[1;33m(\u001b[0m\u001b[0mrow\u001b[0m\u001b[1;33m)\u001b[0m\u001b[1;33m)\u001b[0m\u001b[1;33m:\u001b[0m\u001b[1;33m\u001b[0m\u001b[1;33m\u001b[0m\u001b[0m\n\u001b[1;32m----> 5\u001b[1;33m                 \u001b[0mprint\u001b[0m\u001b[1;33m(\u001b[0m\u001b[0mrow\u001b[0m\u001b[1;33m[\u001b[0m\u001b[0mi\u001b[0m\u001b[1;33m]\u001b[0m\u001b[1;33m)\u001b[0m\u001b[1;33m\u001b[0m\u001b[1;33m\u001b[0m\u001b[0m\n\u001b[0m\u001b[0;32m      6\u001b[0m                 \u001b[1;32mif\u001b[0m \u001b[0mrow\u001b[0m\u001b[1;33m[\u001b[0m\u001b[0mi\u001b[0m\u001b[1;33m]\u001b[0m \u001b[1;33m==\u001b[0m \u001b[1;34m''\u001b[0m\u001b[1;33m:\u001b[0m\u001b[1;33m\u001b[0m\u001b[1;33m\u001b[0m\u001b[0m\n\u001b[0;32m      7\u001b[0m                     \u001b[1;32mdel\u001b[0m \u001b[0mrow\u001b[0m\u001b[1;33m[\u001b[0m\u001b[0mi\u001b[0m\u001b[1;33m]\u001b[0m\u001b[1;33m\u001b[0m\u001b[1;33m\u001b[0m\u001b[0m\n",
      "\u001b[1;31mIndexError\u001b[0m: list index out of range"
     ]
    }
   ],
   "source": [
    "csv_toVar('Test.csv',variablesArray)"
   ]
  },
  {
   "cell_type": "code",
   "execution_count": null,
   "metadata": {},
   "outputs": [],
   "source": []
  }
 ],
 "metadata": {
  "kernelspec": {
   "display_name": "Python 3",
   "language": "python",
   "name": "python3"
  },
  "language_info": {
   "codemirror_mode": {
    "name": "ipython",
    "version": 3
   },
   "file_extension": ".py",
   "mimetype": "text/x-python",
   "name": "python",
   "nbconvert_exporter": "python",
   "pygments_lexer": "ipython3",
   "version": "3.7.4"
  }
 },
 "nbformat": 4,
 "nbformat_minor": 4
}
