{
 "cells": [
  {
   "cell_type": "code",
   "execution_count": 26,
   "metadata": {},
   "outputs": [],
   "source": [
    "import csv"
   ]
  },
  {
   "cell_type": "code",
   "execution_count": 27,
   "metadata": {},
   "outputs": [],
   "source": [
    "prop = []\n",
    "nodes = []\n",
    "elements = []\n",
    "condU = []\n",
    "condF  = []\n",
    "\n",
    "variablesArray =[\n",
    "    prop, #P_id;dens;E;v;A\n",
    "    nodes,#N_id;x;y;;\n",
    "    elements,#E_id;from;to;prop;\n",
    "    condU,#I_U_id;N_id;u_x;u_y;\n",
    "    condF#I_F_id;N_id;Fx;Fy;\n",
    "]"
   ]
  },
  {
   "cell_type": "code",
   "execution_count": 28,
   "metadata": {},
   "outputs": [],
   "source": [
    "def dataRowCounter(data,name,dataTo):\n",
    "    for i in range(len(data)):\n",
    "        for j in range(len(name)):\n",
    "            if data[i][0] == name[j]:\n",
    "                dataTo[j] = i + 2\n",
    "    dataTo[5] = len(data) + 2"
   ]
  },
  {
   "cell_type": "code",
   "execution_count": 29,
   "metadata": {},
   "outputs": [],
   "source": [
    "def rangeMaker(ranges,rows): \n",
    "    for i in range(len(ranges)):\n",
    "        ranges[i].append(rows[i])\n",
    "        ranges[i].append(rows[i+1]-2)"
   ]
  },
  {
   "cell_type": "code",
   "execution_count": 30,
   "metadata": {},
   "outputs": [],
   "source": [
    "def dataToArray(variab,rang,data):\n",
    "    for i in range(len(variab)):\n",
    "        h1 = rang[i][0]\n",
    "        h2 = rang[i][1]\n",
    "        for j in range(h1,h2):\n",
    "            variab[i].append(data[j])"
   ]
  },
  {
   "cell_type": "code",
   "execution_count": 31,
   "metadata": {},
   "outputs": [],
   "source": [
    "def arrayCleaner(array):\n",
    "    for data in array:\n",
    "        for row in data:\n",
    "            h1 = []\n",
    "            for i in range(len(row)):\n",
    "                if row[i] == '':\n",
    "                    h1.append(i)\n",
    "            h1.reverse()\n",
    "            for j in h1:\n",
    "                del row[j]"
   ]
  },
  {
   "cell_type": "code",
   "execution_count": 32,
   "metadata": {},
   "outputs": [],
   "source": [
    "def dataPrinter(data):\n",
    "    for i in data:\n",
    "        print(i)"
   ]
  },
  {
   "cell_type": "code",
   "execution_count": 33,
   "metadata": {},
   "outputs": [],
   "source": [
    "def csv_toVar(csv_File,varArray):\n",
    "    with open(csv_File, \"r\") as csv_file:\n",
    "        csv_reader = csv.reader(csv_file, delimiter =\";\")\n",
    "        lines = [line for line in csv_reader]\n",
    "    varNames=[\n",
    "        \"Prop\",\n",
    "        \"Nodes\",\n",
    "        \"Elements\",\n",
    "        \"In_Conds_U\",\n",
    "        \"In_Conds_F\",\n",
    "        \"End\"\n",
    "    ]\n",
    "    rowCounter = [\n",
    "        0,#Prop\n",
    "        0,#Nodes\n",
    "        0,#Elements\n",
    "        0,#In_Conds_U\n",
    "        0,#In_Conds_F\n",
    "        0,#End\n",
    "    ]\n",
    "    rangeCounter = [\n",
    "        [],#PropRange:\n",
    "        [],#NodesRange\n",
    "        [],#ElementsRange\n",
    "        [],#In_Conds_URange\n",
    "        []#In_Conds_FRange\n",
    "    ]\n",
    "    dataRowCounter(lines,varNames,rowCounter)\n",
    "    rangeMaker(rangeCounter,rowCounter)\n",
    "    dataToArray(varArray,rangeCounter,lines)\n",
    "    arrayCleaner(varArray)\n",
    "    dataPrinter(varArray)"
   ]
  },
  {
   "cell_type": "code",
   "execution_count": 34,
   "metadata": {
    "tags": []
   },
   "outputs": [
    {
     "output_type": "stream",
     "name": "stdout",
     "text": "[['0', '7800', '200000', '0.3', '100']]\n[['0', '0', '0'], ['1', '1000', '1000'], ['2', '2000', '1000']]\n[['0', '0', '1', '0'], ['1', '1', '2', '0']]\n[['0', '0', '1', '1']]\n[['0', '2', '0', '10000']]\n"
    }
   ],
   "source": [
    "csv_toVar('Test.csv',variablesArray)"
   ]
  },
  {
   "cell_type": "code",
   "execution_count": 35,
   "metadata": {
    "tags": []
   },
   "outputs": [
    {
     "output_type": "stream",
     "name": "stdout",
     "text": "[['0', '7800', '200000', '0.3', '100', '1000']]\n[['0', '0', '0'], ['1', '1000', '500']]\n[['0', '0', '1', '0']]\n[['0', '0', '1', '1']]\n[['0', '1', '0', '1000']]\n"
    }
   ],
   "source": [
    "prop = []\n",
    "nodes = []\n",
    "elements = []\n",
    "condU = []\n",
    "condF  = []\n",
    "\n",
    "variablesArray =[\n",
    "    prop, #P_id;dens;E;v;A\n",
    "    nodes,#N_id;x;y;;\n",
    "    elements,#E_id;from;to;prop;\n",
    "    condU,#I_U_id;N_id;u_x;u_y;\n",
    "    condF#I_F_id;N_id;Fx;Fy;\n",
    "]\n",
    "csv_toVar('Test4.csv',variablesArray)"
   ]
  },
  {
   "cell_type": "code",
   "execution_count": 36,
   "metadata": {},
   "outputs": [],
   "source": [
    "def fivePrec(array):\n",
    "    for i in range(len(array)):\n",
    "        for j in range(len(array)):\n",
    "            array[i][j] = format(array[i][j], \".5g\")"
   ]
  },
  {
   "cell_type": "code",
   "execution_count": 37,
   "metadata": {},
   "outputs": [],
   "source": [
    "import math\n",
    "import numpy as np"
   ]
  },
  {
   "cell_type": "code",
   "execution_count": 38,
   "metadata": {},
   "outputs": [],
   "source": [
    "def transMx(ang):\n",
    "    c = math.cos(ang)        \n",
    "    s = math.sin(ang)\n",
    "    cs = c*s\n",
    "    c2 = c**2\n",
    "    s2 = s**2\n",
    "    tMx = np.array([\n",
    "        [c,s,0,0,0,0],\n",
    "        [-s,c,0,0,0,0],\n",
    "        [0,0,1,0,0,0],\n",
    "        [0,0,0,c,s,0],\n",
    "        [0,0,0,-s,c,0],\n",
    "        [0,0,0,0,0,1]\n",
    "    ])\n",
    "    tMxT = np.transpose(tMx)\n",
    "    return tMx,tMxT \n"
   ]
  },
  {
   "cell_type": "code",
   "execution_count": 39,
   "metadata": {},
   "outputs": [],
   "source": [
    "def kCompCalc(L,E,A,Iz):\n",
    "    g = Iz*E/L**3\n",
    "    h1 = np.array([\n",
    "        [A*E/L,0,0,-A*E/L,0,0],\n",
    "        [0,12*g,6*L*g,0,-12*g,-6*L*g],\n",
    "        [0,6*L*g,4*L**2*g,0,-6*L*g,-4*L**2*g],\n",
    "        [A*E/L,0,0,A*E/L,0,0],\n",
    "        [0,-12*g,-6*L*g,0,12*g,-6*L*g],\n",
    "        [0,6*L*g,4*L**2*g,0,-6*L*g,4*L**2*g]\n",
    "    ])\n",
    "    return h1"
   ]
  },
  {
   "cell_type": "code",
   "execution_count": 40,
   "metadata": {},
   "outputs": [],
   "source": [
    "class Element:\n",
    "    def __init__(self,id_E,propert,node,element):\n",
    "        id_E = int(id_E)\n",
    "        elementRow = 0\n",
    "        self.x = [0,0] \n",
    "        self.y = [0,0]  #EZ\n",
    "        self.phi = [0,0]\n",
    "\n",
    "        for row in element:\n",
    "          if int(row[0]) == id_E:\n",
    "              elementRow = row\n",
    "\n",
    "        self.nodeNum =[ # EZ\n",
    "         int(elementRow[1])*3,\n",
    "         int(elementRow[1])*3+1,\n",
    "         int(elementRow[1])*3+2,\n",
    "         int(elementRow[2])*3,\n",
    "         int(elementRow[2])*3+1,\n",
    "         int(elementRow[2])*3+2\n",
    "        ]\n",
    "            \n",
    "\n",
    "        for row in propert:\n",
    "            if int(elementRow[3]) == int(row[0]):      \n",
    "                self.dens = float(row[1])\n",
    "                self.E = float(row[2])\n",
    "                self.v = float(row[3])\n",
    "                self.A = float(row[4]) #TODO implementation of A into csv\n",
    "                self.Iz = 1000 #EZ\n",
    "                #self.A = float(row[4])\n",
    "\n",
    "        for row in node: # EZ\n",
    "            if int(elementRow[1]) == int(row[0]):\n",
    "                self.x[0] =float(row[1])\n",
    "                self.y[0] =float(row[2])\n",
    "\n",
    "        for row in node:# EZ\n",
    "            if int(elementRow[2]) == int(row[0]):\n",
    "                self.x[1] =float(row[1])\n",
    "                self.y[1] =float(row[2])        \n",
    "\n",
    "        self.L = math.sqrt((self.x[0]-self.x[1])**2+(self.y[0]-self.y[1])**2)\n",
    "\n",
    "        if self.y[1]-self.y[0] == 0:\n",
    "            if self.x[1]-self.x[0] > 0:\n",
    "                self.alfa = 0*math.pi/180\n",
    "            elif self.x[1]-self.x[0] < 0:\n",
    "                self.alfa = 180*math.pi/180\n",
    "        elif self.x[1]-self.x[0] == 0:\n",
    "            if self.y[1]-self.y[0] > 0:\n",
    "                self.alfa = 90*math.pi/180\n",
    "            elif self.y[1]-self.y[0] < 0:\n",
    "                self.alfa = 270*math.pi/180\n",
    "        else:\n",
    "            self.alfa = math.atan(self.y[1]-self.y[0])/(self.x[1]-self.x[0]) \n",
    "\n",
    "\n",
    "        #c = math.cos(self.alfa)\n",
    "        #s = math.sin(self.alfa)\n",
    "\n",
    "        # self.kElementMartix = np.array([\n",
    "        #     [c**2,c*s,-c**2,-c*s],\n",
    "        #     [c*s,s**2,-c*s,-s**2],\n",
    "        #     [-c**2,-c*s,c**2,c*s],\n",
    "        #     [-c*s,-s**2,c*s,s**2]\n",
    "        #     ])\n",
    "        # self.kElementMartix *=  (self.A*self.E/self.L)\n",
    "        tMx,tMxT = transMx(self.alfa)\n",
    "        #print(tMx)\n",
    "        #print(tMxT)  \n",
    "        self.kElementMartix = tMxT * kCompCalc(self.L,self.E,self.A,self.Iz) * tMx\n",
    "    def printEr(self):\n",
    "        print(self.x)\n",
    "        print(self.y)\n",
    "        print(self.dens)\n",
    "        print(self.E)\n",
    "        print(self.v)\n",
    "        print(self.A)\n",
    "        print(self.L)\n",
    "        print(self.alfa)\n",
    "        print(self.kElementMartix)\n",
    "        print(self.nodeNum)"
   ]
  },
  {
   "cell_type": "code",
   "execution_count": 41,
   "metadata": {
    "tags": []
   },
   "outputs": [
    {
     "output_type": "stream",
     "name": "stdout",
     "text": "[0.0, 1000.0]\n[0.0, 500.0]\n7800.0\n200000.0\n0.3\n100.0\n1118.033988749895\n0.0015687963294615567\n[[ 1.7888e+04 -0.0000e+00  0.0000e+00 -0.0000e+00  0.0000e+00  0.0000e+00]\n [-0.0000e+00  1.7173e+00  0.0000e+00  0.0000e+00 -0.0000e+00 -0.0000e+00]\n [ 0.0000e+00  0.0000e+00  7.1554e+05  0.0000e+00 -0.0000e+00 -0.0000e+00]\n [ 0.0000e+00  0.0000e+00  0.0000e+00  1.7888e+04 -0.0000e+00  0.0000e+00]\n [ 0.0000e+00 -0.0000e+00 -0.0000e+00 -0.0000e+00  1.7173e+00 -0.0000e+00]\n [ 0.0000e+00  0.0000e+00  0.0000e+00  0.0000e+00 -0.0000e+00  7.1554e+05]]\n[0, 1, 2, 3, 4, 5]\n"
    }
   ],
   "source": [
    "e0 =  Element(0,prop,nodes,elements)\n",
    "fivePrec(e0.kElementMartix)\n",
    "e0.printEr()"
   ]
  },
  {
   "cell_type": "code",
   "execution_count": 42,
   "metadata": {},
   "outputs": [],
   "source": [
    "def elementsMaker(array,eContainer):\n",
    "    for e in array[2]:\n",
    "        eContainer.append(Element(e[0],array[0],array[1],array[2]))\n",
    "    for x in eContainer:\n",
    "        fivePrec(x.kElementMartix)\n",
    "        #print(x.kElementMartix)"
   ]
  },
  {
   "cell_type": "code",
   "execution_count": 43,
   "metadata": {
    "tags": []
   },
   "outputs": [],
   "source": [
    "elementsContainer = []\n",
    "elementsMaker(variablesArray,elementsContainer)"
   ]
  },
  {
   "cell_type": "code",
   "execution_count": 44,
   "metadata": {
    "tags": []
   },
   "outputs": [],
   "source": [
    "def globalKMxMaker(kMx,elem):\n",
    "    print(len(elem[0].kElementMartix))\n",
    "    for e in elem:\n",
    "        for i in range(len(e.kElementMartix)):\n",
    "            for j in range(len(e.kElementMartix)):\n",
    "                #print(e.kElementMartix[i][j])\n",
    "                n1 = e.nodeNum[i]\n",
    "                n2 = e.nodeNum[j]\n",
    "                #print(n1,n2)\n",
    "                kMx[n1][n2] += e.kElementMartix[i][j]\n",
    "                #print(kMx[n1][n2])\n"
   ]
  },
  {
   "cell_type": "code",
   "execution_count": 45,
   "metadata": {
    "tags": []
   },
   "outputs": [
    {
     "output_type": "stream",
     "name": "stdout",
     "text": "[[0. 0. 0. 0. 0. 0.]\n [0. 0. 0. 0. 0. 0.]\n [0. 0. 0. 0. 0. 0.]\n [0. 0. 0. 0. 0. 0.]\n [0. 0. 0. 0. 0. 0.]\n [0. 0. 0. 0. 0. 0.]]\n6\n[[1.7888e+04 0.0000e+00 0.0000e+00 0.0000e+00 0.0000e+00 0.0000e+00]\n [0.0000e+00 1.7173e+00 0.0000e+00 0.0000e+00 0.0000e+00 0.0000e+00]\n [0.0000e+00 0.0000e+00 7.1554e+05 0.0000e+00 0.0000e+00 0.0000e+00]\n [0.0000e+00 0.0000e+00 0.0000e+00 1.7888e+04 0.0000e+00 0.0000e+00]\n [0.0000e+00 0.0000e+00 0.0000e+00 0.0000e+00 1.7173e+00 0.0000e+00]\n [0.0000e+00 0.0000e+00 0.0000e+00 0.0000e+00 0.0000e+00 7.1554e+05]]\n"
    }
   ],
   "source": [
    "mxSize = len(variablesArray[1])*3\n",
    "globalKMx = np.zeros((mxSize,mxSize))\n",
    "print(globalKMx)\n",
    "globalKMxMaker(globalKMx,elementsContainer)\n",
    "fivePrec(globalKMx)\n",
    "print(globalKMx)"
   ]
  },
  {
   "cell_type": "code",
   "execution_count": 46,
   "metadata": {
    "tags": []
   },
   "outputs": [
    {
     "output_type": "stream",
     "name": "stdout",
     "text": "[[1.7888e+04 0.0000e+00 0.0000e+00 0.0000e+00 0.0000e+00 0.0000e+00]\n [0.0000e+00 1.7173e+00 0.0000e+00 0.0000e+00 0.0000e+00 0.0000e+00]\n [0.0000e+00 0.0000e+00 7.1554e+05 0.0000e+00 0.0000e+00 0.0000e+00]\n [0.0000e+00 0.0000e+00 0.0000e+00 1.7888e+04 0.0000e+00 0.0000e+00]\n [0.0000e+00 0.0000e+00 0.0000e+00 0.0000e+00 1.7173e+00 0.0000e+00]\n [0.0000e+00 0.0000e+00 0.0000e+00 0.0000e+00 0.0000e+00 7.1554e+05]]\n['0', '0', '1', '1']\n[[7.1554e+05 0.0000e+00 0.0000e+00 0.0000e+00]\n [0.0000e+00 1.7888e+04 0.0000e+00 0.0000e+00]\n [0.0000e+00 0.0000e+00 1.7173e+00 0.0000e+00]\n [0.0000e+00 0.0000e+00 0.0000e+00 7.1554e+05]]\n"
    }
   ],
   "source": [
    "globalRedKMx = np.copy(globalKMx)\n",
    "print(globalRedKMx)\n",
    "gr = np.delete(globalRedKMx,[0,1],0) #<-- array, what i, row/coloum\n",
    "gr2 = np.delete(gr,[0,1],1) #<-- array, what i, row/coloum\n",
    "def globalRedKMxMaker(kMx,inU):\n",
    "    hArray = []\n",
    "    for init in inU:\n",
    "        print(init)\n",
    "        if int(init[2]) == 1:\n",
    "            hArray.append(int(init[1])*2)\n",
    "        if int(init[3]) == 1:\n",
    "            hArray.append(int(init[1])*2+1)\n",
    "    h1 = np.delete(kMx,hArray,0)\n",
    "    h2 = np.delete(h1,hArray,1)\n",
    "    return np.copy(h2)\n",
    "\n",
    "globalRedKMx = globalRedKMxMaker(globalRedKMx,variablesArray[3])\n",
    "print(globalRedKMx)"
   ]
  },
  {
   "cell_type": "code",
   "execution_count": 47,
   "metadata": {
    "tags": []
   },
   "outputs": [
    {
     "output_type": "stream",
     "name": "stdout",
     "text": "[[   0.]\n [   0.]\n [   0.]\n [1000.]\n [   0.]\n [   0.]]\n['0', '0', '1', '1']\n[[   0.]\n [1000.]\n [   0.]\n [   0.]]\n"
    }
   ],
   "source": [
    "def initFToArrayMaker(inF):\n",
    "    h1 = np.zeros((mxSize,1))\n",
    "\n",
    "    for i in inF:\n",
    "        for j in range(0,2):\n",
    "            h1[int(i[1])*2+j][0] = int(i[2+j])\n",
    "    return np.copy(h1)\n",
    "fMx = initFToArrayMaker(variablesArray[4])\n",
    "print(fMx)\n",
    "\n",
    "def fTofRed(inU,array):\n",
    "    hArray = []\n",
    "    for init in inU:\n",
    "        print(init)\n",
    "        if int(init[2]) == 1:\n",
    "            hArray.append(int(init[1])*2)\n",
    "        if int(init[3]) == 1:\n",
    "            hArray.append(int(init[1])*2+1)\n",
    "    h1 = np.delete(array,hArray,0)\n",
    "    return np.copy(h1)\n",
    "\n",
    "fMxRed = fTofRed(variablesArray[3],fMx)\n",
    "print(fMxRed) #!!!!!!!!!!!!!NYOMaték"
   ]
  },
  {
   "cell_type": "code",
   "execution_count": 48,
   "metadata": {
    "tags": []
   },
   "outputs": [
    {
     "output_type": "stream",
     "name": "stdout",
     "text": "[[   0.]\n [1000.]\n [   0.]\n [   0.]]\n[[7.1554e+05 0.0000e+00 0.0000e+00 0.0000e+00]\n [0.0000e+00 1.7888e+04 0.0000e+00 0.0000e+00]\n [0.0000e+00 0.0000e+00 1.7173e+00 0.0000e+00]\n [0.0000e+00 0.0000e+00 0.0000e+00 7.1554e+05]]\n"
    }
   ],
   "source": [
    "print(fMxRed)\n",
    "print(globalRedKMx)"
   ]
  },
  {
   "cell_type": "code",
   "execution_count": 49,
   "metadata": {
    "tags": []
   },
   "outputs": [
    {
     "output_type": "stream",
     "name": "stdout",
     "text": "[[1.3975e-06 0.0000e+00 0.0000e+00 0.0000e+00]\n [0.0000e+00 5.5903e-05 0.0000e+00 0.0000e+00]\n [0.0000e+00 0.0000e+00 5.8231e-01 0.0000e+00]\n [0.0000e+00 0.0000e+00 0.0000e+00 1.3975e-06]]\n[[0.      ]\n [0.055903]\n [0.      ]\n [0.      ]]\n"
    }
   ],
   "source": [
    "try1 = np.linalg.inv(globalRedKMx)\n",
    "fivePrec(try1)\n",
    "try2 = np.multiply(fMxRed,try1)\n",
    "try3 = try1*fMxRed\n",
    "try4 = np.matmul(try1,fMxRed)\n",
    "try5 = try1@fMxRed\n",
    "print(try1)\n",
    "#print(try2)\n",
    "#print(try3)\n",
    "#print(try4)\n",
    "print(try5)"
   ]
  },
  {
   "cell_type": "code",
   "execution_count": 50,
   "metadata": {},
   "outputs": [],
   "source": [
    "import matplotlib.pyplot as plt"
   ]
  },
  {
   "cell_type": "code",
   "execution_count": null,
   "metadata": {},
   "outputs": [],
   "source": []
  }
 ],
 "metadata": {
  "kernelspec": {
   "display_name": "Python 3",
   "language": "python",
   "name": "python3"
  },
  "language_info": {
   "codemirror_mode": {
    "name": "ipython",
    "version": 3
   },
   "file_extension": ".py",
   "mimetype": "text/x-python",
   "name": "python",
   "nbconvert_exporter": "python",
   "pygments_lexer": "ipython3",
   "version": "3.8.5-final"
  }
 },
 "nbformat": 4,
 "nbformat_minor": 4
}