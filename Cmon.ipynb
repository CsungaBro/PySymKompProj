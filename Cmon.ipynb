{
 "cells": [
  {
   "cell_type": "code",
   "execution_count": 92,
   "metadata": {},
   "outputs": [],
   "source": [
    "import csv"
   ]
  },
  {
   "cell_type": "code",
   "execution_count": 93,
   "metadata": {},
   "outputs": [],
   "source": [
    "prop = []\n",
    "nodes = []\n",
    "elements = []\n",
    "condU = []\n",
    "condF  = []\n",
    "\n",
    "variablesArray =[\n",
    "    prop, #P_id;dens;E;v;A\n",
    "    nodes,#N_id;x;y;;\n",
    "    elements,#E_id;from;to;prop;\n",
    "    condU,#I_U_id;N_id;u_x;u_y;\n",
    "    condF#I_F_id;N_id;Fx;Fy;\n",
    "]"
   ]
  },
  {
   "cell_type": "code",
   "execution_count": 94,
   "metadata": {},
   "outputs": [],
   "source": [
    "def dataRowCounter(data,name,dataTo):\n",
    "    for i in range(len(data)):\n",
    "        for j in range(len(name)):\n",
    "            if data[i][0] == name[j]:\n",
    "                dataTo[j] = i + 2\n",
    "    dataTo[5] = len(data) + 2"
   ]
  },
  {
   "cell_type": "code",
   "execution_count": 95,
   "metadata": {},
   "outputs": [],
   "source": [
    "def rangeMaker(ranges,rows): \n",
    "    for i in range(len(ranges)):\n",
    "        ranges[i].append(rows[i])\n",
    "        ranges[i].append(rows[i+1]-2)"
   ]
  },
  {
   "cell_type": "code",
   "execution_count": 96,
   "metadata": {},
   "outputs": [],
   "source": [
    "def dataToArray(variab,rang,data):\n",
    "    for i in range(len(variab)):\n",
    "        h1 = rang[i][0]\n",
    "        h2 = rang[i][1]\n",
    "        for j in range(h1,h2):\n",
    "            variab[i].append(data[j])"
   ]
  },
  {
   "cell_type": "code",
   "execution_count": 97,
   "metadata": {},
   "outputs": [],
   "source": [
    "def arrayCleaner(array):\n",
    "    for data in array:\n",
    "        for row in data:\n",
    "            h1 = []\n",
    "            for i in range(len(row)):\n",
    "                if row[i] == '':\n",
    "                    h1.append(i)\n",
    "            h1.reverse()\n",
    "            for j in h1:\n",
    "                del row[j]"
   ]
  },
  {
   "cell_type": "code",
   "execution_count": 98,
   "metadata": {},
   "outputs": [],
   "source": [
    "def dataPrinter(data):\n",
    "    for i in data:\n",
    "        print(i)"
   ]
  },
  {
   "cell_type": "code",
   "execution_count": 99,
   "metadata": {},
   "outputs": [],
   "source": [
    "def csv_toVar(csv_File,varArray):\n",
    "    with open(csv_File, \"r\") as csv_file:\n",
    "        csv_reader = csv.reader(csv_file, delimiter =\";\")\n",
    "        lines = [line for line in csv_reader]\n",
    "    varNames=[\n",
    "        \"Prop\",\n",
    "        \"Nodes\",\n",
    "        \"Elements\",\n",
    "        \"In_Conds_U\",\n",
    "        \"In_Conds_F\",\n",
    "        \"End\"\n",
    "    ]\n",
    "    rowCounter = [\n",
    "        0,#Prop\n",
    "        0,#Nodes\n",
    "        0,#Elements\n",
    "        0,#In_Conds_U\n",
    "        0,#In_Conds_F\n",
    "        0,#End\n",
    "    ]\n",
    "    rangeCounter = [\n",
    "        [],#PropRange:\n",
    "        [],#NodesRange\n",
    "        [],#ElementsRange\n",
    "        [],#In_Conds_URange\n",
    "        []#In_Conds_FRange\n",
    "    ]\n",
    "    dataRowCounter(lines,varNames,rowCounter)\n",
    "    rangeMaker(rangeCounter,rowCounter)\n",
    "    dataToArray(varArray,rangeCounter,lines)\n",
    "    arrayCleaner(varArray)\n",
    "    dataPrinter(varArray)"
   ]
  },
  {
   "cell_type": "code",
   "execution_count": 100,
   "metadata": {
    "tags": []
   },
   "outputs": [
    {
     "output_type": "stream",
     "name": "stdout",
     "text": "[['0', '7800', '200000', '0.3', '100']]\n[['0', '0', '0'], ['1', '1000', '1000'], ['2', '2000', '1000']]\n[['0', '0', '1', '0'], ['1', '1', '2', '0']]\n[['0', '0', '1', '1']]\n[['0', '2', '0', '10000']]\n"
    }
   ],
   "source": [
    "csv_toVar('Test.csv',variablesArray)"
   ]
  },
  {
   "cell_type": "code",
   "execution_count": 101,
   "metadata": {
    "tags": []
   },
   "outputs": [
    {
     "output_type": "stream",
     "name": "stdout",
     "text": "[['0', '7800', '200000', '0.3', '100']]\n[['0', '0', '0'], ['1', '1000', '1000'], ['2', '2000', '1000']]\n[['0', '0', '1', '0'], ['1', '1', '2', '0']]\n[['0', '0', '1', '1']]\n[['0', '2', '0', '10000']]\n"
    }
   ],
   "source": [
    "prop = []\n",
    "nodes = []\n",
    "elements = []\n",
    "condU = []\n",
    "condF  = []\n",
    "\n",
    "variablesArray =[\n",
    "    prop, #P_id;dens;E;v;A\n",
    "    nodes,#N_id;x;y;;\n",
    "    elements,#E_id;from;to;prop;\n",
    "    condU,#I_U_id;N_id;u_x;u_y;\n",
    "    condF#I_F_id;N_id;Fx;Fy;\n",
    "]\n",
    "csv_toVar('Test.csv',variablesArray)"
   ]
  },
  {
   "cell_type": "code",
   "execution_count": 102,
   "metadata": {},
   "outputs": [],
   "source": [
    "import math\n",
    "import numpy as np"
   ]
  },
  {
   "cell_type": "code",
   "execution_count": 103,
   "metadata": {},
   "outputs": [],
   "source": [
    "class Element:\n",
    "    def __init__(self,id_E,propert,node,element):\n",
    "        id_E = int(id_E)\n",
    "        elementRow = 0\n",
    "        self.x = [0,0] \n",
    "        self.y = [0,0]\n",
    "\n",
    "        for row in element:\n",
    "          if int(row[0]) == id_E:\n",
    "              elementRow = row\n",
    "\n",
    "        self.nodeNum =[\n",
    "         int(elementRow[1])*2,\n",
    "         int(elementRow[1])*2+1,\n",
    "         int(elementRow[2])*2,\n",
    "         int(elementRow[2])*2+1\n",
    "        ]\n",
    "            \n",
    "\n",
    "        for row in propert:\n",
    "            if int(elementRow[3]) == int(row[0]):      \n",
    "                self.dens = float(row[1])\n",
    "                self.E = float(row[2])\n",
    "                self.v = float(row[3])\n",
    "                self.A = 1 #TODO implementation of A into csv\n",
    "                #self.A = float(row[4])\n",
    "\n",
    "        for row in node:\n",
    "            if int(elementRow[1]) == int(row[0]):\n",
    "                self.x[0] =float(row[1])\n",
    "                self.y[0] =float(row[2])\n",
    "\n",
    "        for row in node:\n",
    "            if int(elementRow[2]) == int(row[0]):\n",
    "                self.x[1] =float(row[1])\n",
    "                self.y[1] =float(row[2])        \n",
    "\n",
    "        self.L = math.sqrt((self.x[0]-self.x[1])**2+(self.y[0]-self.y[1])**2)\n",
    "\n",
    "        if self.y[1]-self.y[0] == 0:\n",
    "            if self.x[1]-self.x[0] > 0:\n",
    "                self.alfa = 0*math.pi/180\n",
    "            elif self.x[1]-self.x[0] < 0:\n",
    "                self.alfa = 180*math.pi/180\n",
    "        elif self.x[1]-self.x[0] == 0:\n",
    "            if self.y[1]-self.y[0] > 0:\n",
    "                self.alfa = 90*math.pi/180\n",
    "            elif self.y[1]-self.y[0] < 0:\n",
    "                self.alfa = 270*math.pi/180\n",
    "        else:\n",
    "            self.alfa = math.atan(self.y[1]-self.y[0])/(self.x[1]-self.x[0]) \n",
    "\n",
    "        self.kElementMartix = np.array([\n",
    "            [math.cos(self.alfa)**2,math.cos(self.alfa)*math.cos(self.alfa),-math.cos(self.alfa)**2,-math.cos(self.alfa)*math.cos(self.alfa)],\n",
    "            [math.cos(self.alfa)*math.cos(self.alfa),math.sin(self.alfa)**2,-math.cos(self.alfa)*math.cos(self.alfa),-math.sin(self.alfa)**2],\n",
    "            [-math.cos(self.alfa)**2,-math.cos(self.alfa)*math.cos(self.alfa),math.cos(self.alfa)**2,math.cos(self.alfa)*math.cos(self.alfa)],\n",
    "            [-math.cos(self.alfa)*math.cos(self.alfa),-math.sin(self.alfa)**2,math.cos(self.alfa)*math.cos(self.alfa),math.sin(self.alfa)**2]\n",
    "            ])\n",
    "        self.kElementMartix *=  (self.A*self.E/self.L)\n",
    "\n",
    "    def printEr(self):\n",
    "        print(self.x)\n",
    "        print(self.y)\n",
    "        print(self.dens)\n",
    "        print(self.E)\n",
    "        print(self.v)\n",
    "        print(self.A)\n",
    "        print(self.L)\n",
    "        print(self.alfa)\n",
    "        print(self.kElementMartix)\n",
    "        print(self.nodeNum)"
   ]
  },
  {
   "cell_type": "code",
   "execution_count": 104,
   "metadata": {
    "tags": []
   },
   "outputs": [
    {
     "output_type": "stream",
     "name": "stdout",
     "text": "[0.0, 1000.0]\n[0.0, 1000.0]\n7800.0\n200000.0\n0.3\n1\n1414.213562373095\n0.0015697963271282297\n[[ 1.41421008e+02  1.41421008e+02 -1.41421008e+02 -1.41421008e+02]\n [ 1.41421008e+02  3.48498777e-04 -1.41421008e+02 -3.48498777e-04]\n [-1.41421008e+02 -1.41421008e+02  1.41421008e+02  1.41421008e+02]\n [-1.41421008e+02 -3.48498777e-04  1.41421008e+02  3.48498777e-04]]\n[0, 1, 2, 3]\n"
    }
   ],
   "source": [
    "e0 =  Element(0,prop,nodes,elements)\n",
    "e0.printEr()"
   ]
  },
  {
   "cell_type": "code",
   "execution_count": 106,
   "metadata": {},
   "outputs": [],
   "source": [
    "def elementsMaker(array,eContainer):\n",
    "    for e in array[2]:\n",
    "        eContainer.append(Element(e[0],array[0],array[1],array[2]))\n",
    "    for x in eContainer:\n",
    "        print(x.kElementMartix)"
   ]
  },
  {
   "cell_type": "code",
   "execution_count": 107,
   "metadata": {
    "tags": []
   },
   "outputs": [
    {
     "output_type": "stream",
     "name": "stdout",
     "text": "[[ 1.41421008e+02  1.41421008e+02 -1.41421008e+02 -1.41421008e+02]\n [ 1.41421008e+02  3.48498777e-04 -1.41421008e+02 -3.48498777e-04]\n [-1.41421008e+02 -1.41421008e+02  1.41421008e+02  1.41421008e+02]\n [-1.41421008e+02 -3.48498777e-04  1.41421008e+02  3.48498777e-04]]\n[[ 200.  200. -200. -200.]\n [ 200.    0. -200.   -0.]\n [-200. -200.  200.  200.]\n [-200.   -0.  200.    0.]]\n"
    }
   ],
   "source": [
    "elementsContainer = []\n",
    "elementsMaker(variablesArray,elementsContainer)"
   ]
  },
  {
   "cell_type": "code",
   "execution_count": 108,
   "metadata": {
    "tags": []
   },
   "outputs": [],
   "source": [
    "def globalKMxMaker(kMx,elem):\n",
    "    print(len(elem[0].kElementMartix))\n",
    "    for e in elem:\n",
    "        for i in range(len(e.kElementMartix)):\n",
    "            for j in range(len(e.kElementMartix)):\n",
    "                #print(e.kElementMartix[i][j])\n",
    "                n1 = e.nodeNum[i]\n",
    "                n2 = e.nodeNum[j]\n",
    "                #print(n1,n2)\n",
    "                kMx[n1][n2] += e.kElementMartix[i][j]\n",
    "                #print(kMx[n1][n2])\n"
   ]
  },
  {
   "cell_type": "code",
   "execution_count": 109,
   "metadata": {},
   "outputs": [],
   "source": [
    "def fivePrec(array):\n",
    "    for i in range(len(array)):\n",
    "        for j in range(len(array)):\n",
    "            array[i][j] = format(array[i][j], \".5g\")"
   ]
  },
  {
   "cell_type": "code",
   "execution_count": 110,
   "metadata": {
    "tags": []
   },
   "outputs": [
    {
     "output_type": "stream",
     "name": "stdout",
     "text": "[[0. 0. 0. 0. 0. 0.]\n [0. 0. 0. 0. 0. 0.]\n [0. 0. 0. 0. 0. 0.]\n [0. 0. 0. 0. 0. 0.]\n [0. 0. 0. 0. 0. 0.]\n [0. 0. 0. 0. 0. 0.]]\n4\n[[ 1.4142e+02  1.4142e+02 -1.4142e+02 -1.4142e+02  0.0000e+00  0.0000e+00]\n [ 1.4142e+02  3.4850e-04 -1.4142e+02 -3.4850e-04  0.0000e+00  0.0000e+00]\n [-1.4142e+02 -1.4142e+02  3.4142e+02  3.4142e+02 -2.0000e+02 -2.0000e+02]\n [-1.4142e+02 -3.4850e-04  3.4142e+02  3.4850e-04 -2.0000e+02  0.0000e+00]\n [ 0.0000e+00  0.0000e+00 -2.0000e+02 -2.0000e+02  2.0000e+02  2.0000e+02]\n [ 0.0000e+00  0.0000e+00 -2.0000e+02  0.0000e+00  2.0000e+02  0.0000e+00]]\n"
    }
   ],
   "source": [
    "mxSize = len(variablesArray[1])*2\n",
    "globalKMx = np.zeros((mxSize,mxSize))\n",
    "print(globalKMx)\n",
    "globalKMxMaker(globalKMx,elementsContainer)\n",
    "fivePrec(globalKMx)\n",
    "print(globalKMx)"
   ]
  },
  {
   "cell_type": "code",
   "execution_count": 111,
   "metadata": {
    "tags": []
   },
   "outputs": [
    {
     "output_type": "stream",
     "name": "stdout",
     "text": "[[ 1.4142e+02  1.4142e+02 -1.4142e+02 -1.4142e+02  0.0000e+00  0.0000e+00]\n [ 1.4142e+02  3.4850e-04 -1.4142e+02 -3.4850e-04  0.0000e+00  0.0000e+00]\n [-1.4142e+02 -1.4142e+02  3.4142e+02  3.4142e+02 -2.0000e+02 -2.0000e+02]\n [-1.4142e+02 -3.4850e-04  3.4142e+02  3.4850e-04 -2.0000e+02  0.0000e+00]\n [ 0.0000e+00  0.0000e+00 -2.0000e+02 -2.0000e+02  2.0000e+02  2.0000e+02]\n [ 0.0000e+00  0.0000e+00 -2.0000e+02  0.0000e+00  2.0000e+02  0.0000e+00]]\n['0', '0', '1', '1']\n[[ 3.4142e+02  3.4142e+02 -2.0000e+02 -2.0000e+02]\n [ 3.4142e+02  3.4850e-04 -2.0000e+02  0.0000e+00]\n [-2.0000e+02 -2.0000e+02  2.0000e+02  2.0000e+02]\n [-2.0000e+02  0.0000e+00  2.0000e+02  0.0000e+00]]\n"
    }
   ],
   "source": [
    "globalRedKMx = np.copy(globalKMx)\n",
    "print(globalRedKMx)\n",
    "gr = np.delete(globalRedKMx,[0,1],0) #<-- array, what i, row/coloum\n",
    "gr2 = np.delete(gr,[0,1],1) #<-- array, what i, row/coloum\n",
    "def globalRedKMxMaker(kMx,inU):\n",
    "    hArray = []\n",
    "    for init in inU:\n",
    "        print(init)\n",
    "        if int(init[2]) == 1:\n",
    "            hArray.append(int(init[1])*2)\n",
    "        if int(init[3]) == 1:\n",
    "            hArray.append(int(init[1])*2+1)\n",
    "    h1 = np.delete(kMx,hArray,0)\n",
    "    h2 = np.delete(h1,hArray,1)\n",
    "    return np.copy(h2)\n",
    "\n",
    "globalRedKMx = globalRedKMxMaker(globalRedKMx,variablesArray[3])\n",
    "print(globalRedKMx)"
   ]
  },
  {
   "cell_type": "code",
   "execution_count": 112,
   "metadata": {
    "tags": []
   },
   "outputs": [
    {
     "output_type": "stream",
     "name": "stdout",
     "text": "[[    0.]\n [    0.]\n [    0.]\n [    0.]\n [    0.]\n [10000.]]\n['0', '0', '1', '1']\n[[    0.]\n [    0.]\n [    0.]\n [10000.]]\n"
    }
   ],
   "source": [
    "def initFToArrayMaker(inF):\n",
    "    h1 = np.zeros((mxSize,1))\n",
    "\n",
    "    for i in inF:\n",
    "        for j in range(0,2):\n",
    "            h1[int(i[1])*2+j][0] = int(i[2+j])\n",
    "    return np.copy(h1)\n",
    "fMx = initFToArrayMaker(variablesArray[4])\n",
    "print(fMx)\n",
    "\n",
    "def fTofRed(inU,array):\n",
    "    hArray = []\n",
    "    for init in inU:\n",
    "        print(init)\n",
    "        if int(init[2]) == 1:\n",
    "            hArray.append(int(init[1])*2)\n",
    "        if int(init[3]) == 1:\n",
    "            hArray.append(int(init[1])*2+1)\n",
    "    h1 = np.delete(array,hArray,0)\n",
    "    return np.copy(h1)\n",
    "\n",
    "fMxRed = fTofRed(variablesArray[3],fMx)\n",
    "print(fMxRed) #!!!!!!!!!!!!!BUG talán indexeléssel"
   ]
  },
  {
   "cell_type": "code",
   "execution_count": 113,
   "metadata": {
    "tags": []
   },
   "outputs": [
    {
     "output_type": "stream",
     "name": "stdout",
     "text": "[[    0.]\n [    0.]\n [    0.]\n [10000.]]\n[[ 3.4142e+02  3.4142e+02 -2.0000e+02 -2.0000e+02]\n [ 3.4142e+02  3.4850e-04 -2.0000e+02  0.0000e+00]\n [-2.0000e+02 -2.0000e+02  2.0000e+02  2.0000e+02]\n [-2.0000e+02  0.0000e+00  2.0000e+02  0.0000e+00]]\n"
    }
   ],
   "source": [
    "print(fMxRed)\n",
    "print(globalRedKMx)"
   ]
  },
  {
   "cell_type": "code",
   "execution_count": 114,
   "metadata": {
    "tags": []
   },
   "outputs": [
    {
     "output_type": "stream",
     "name": "stdout",
     "text": "[[-1.74253772e-08  7.07115305e-03 -1.74253772e-08  7.07115305e-03]\n [ 7.07115305e-03 -7.07115305e-03  7.07115305e-03 -7.07115305e-03]\n [-1.74253772e-08  7.07115305e-03 -1.74253772e-08  1.20711530e-02]\n [ 7.07115305e-03 -7.07115305e-03  1.20711530e-02 -1.20711530e-02]]\n[[  70.7115305]\n [ -70.7115305]\n [ 120.7115305]\n [-120.7115305]]\n"
    }
   ],
   "source": [
    "try1 = np.linalg.inv(globalRedKMx)\n",
    "try2 = np.multiply(fMxRed,try1)\n",
    "try3 = try1*fMxRed\n",
    "try4 = np.matmul(try1,fMxRed)\n",
    "try5 = try1@fMxRed\n",
    "print(try1)\n",
    "#print(try2)\n",
    "#print(try3)\n",
    "#print(try4)\n",
    "print(try5)"
   ]
  },
  {
   "cell_type": "code",
   "execution_count": 105,
   "metadata": {},
   "outputs": [],
   "source": [
    "import matplotlib.pyplot as plt"
   ]
  },
  {
   "cell_type": "code",
   "execution_count": null,
   "metadata": {},
   "outputs": [],
   "source": []
  }
 ],
 "metadata": {
  "kernelspec": {
   "display_name": "Python 3",
   "language": "python",
   "name": "python3"
  },
  "language_info": {
   "codemirror_mode": {
    "name": "ipython",
    "version": 3
   },
   "file_extension": ".py",
   "mimetype": "text/x-python",
   "name": "python",
   "nbconvert_exporter": "python",
   "pygments_lexer": "ipython3",
   "version": "3.8.5-final"
  }
 },
 "nbformat": 4,
 "nbformat_minor": 4
}