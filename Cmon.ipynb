{
 "cells": [
  {
   "cell_type": "code",
   "execution_count": 260,
   "metadata": {},
   "outputs": [],
   "source": [
    "import csv"
   ]
  },
  {
   "cell_type": "code",
   "execution_count": 261,
   "metadata": {},
   "outputs": [],
   "source": [
    "prop = []\n",
    "nodes = []\n",
    "elements = []\n",
    "condU = []\n",
    "condF  = []\n",
    "\n",
    "variablesArray =[\n",
    "    prop, #P_id;dens;E;v;A\n",
    "    nodes,#N_id;x;y;;\n",
    "    elements,#E_id;from;to;prop;\n",
    "    condU,#I_U_id;N_id;u_x;u_y;\n",
    "    condF#I_F_id;N_id;Fx;Fy;\n",
    "]"
   ]
  },
  {
   "cell_type": "code",
   "execution_count": 262,
   "metadata": {},
   "outputs": [],
   "source": [
    "def dataRowCounter(data,name,dataTo):\n",
    "    for i in range(len(data)):\n",
    "        for j in range(len(name)):\n",
    "            if data[i][0] == name[j]:\n",
    "                dataTo[j] = i + 2\n",
    "    dataTo[5] = len(data) + 2"
   ]
  },
  {
   "cell_type": "code",
   "execution_count": 263,
   "metadata": {},
   "outputs": [],
   "source": [
    "def rangeMaker(ranges,rows): \n",
    "    for i in range(len(ranges)):\n",
    "        ranges[i].append(rows[i])\n",
    "        ranges[i].append(rows[i+1]-2)"
   ]
  },
  {
   "cell_type": "code",
   "execution_count": 264,
   "metadata": {},
   "outputs": [],
   "source": [
    "def dataToArray(variab,rang,data):\n",
    "    for i in range(len(variab)):\n",
    "        h1 = rang[i][0]\n",
    "        h2 = rang[i][1]\n",
    "        for j in range(h1,h2):\n",
    "            variab[i].append(data[j])"
   ]
  },
  {
   "cell_type": "code",
   "execution_count": 265,
   "metadata": {},
   "outputs": [],
   "source": [
    "def arrayCleaner(array):\n",
    "    for data in array:\n",
    "        for row in data:\n",
    "            h1 = []\n",
    "            for i in range(len(row)):\n",
    "                if row[i] == '':\n",
    "                    h1.append(i)\n",
    "            h1.reverse()\n",
    "            for j in h1:\n",
    "                del row[j]"
   ]
  },
  {
   "cell_type": "code",
   "execution_count": 266,
   "metadata": {},
   "outputs": [],
   "source": [
    "def dataPrinter(data):\n",
    "    for i in data:\n",
    "        print(i)"
   ]
  },
  {
   "cell_type": "code",
   "execution_count": 267,
   "metadata": {},
   "outputs": [],
   "source": [
    "def csv_toVar(csv_File,varArray):\n",
    "    with open(csv_File, \"r\") as csv_file:\n",
    "        csv_reader = csv.reader(csv_file, delimiter =\";\")\n",
    "        lines = [line for line in csv_reader]\n",
    "    varNames=[\n",
    "        \"Prop\",\n",
    "        \"Nodes\",\n",
    "        \"Elements\",\n",
    "        \"In_Conds_U\",\n",
    "        \"In_Conds_F\",\n",
    "        \"End\"\n",
    "    ]\n",
    "    rowCounter = [\n",
    "        0,#Prop\n",
    "        0,#Nodes\n",
    "        0,#Elements\n",
    "        0,#In_Conds_U\n",
    "        0,#In_Conds_F\n",
    "        0,#End\n",
    "    ]\n",
    "    rangeCounter = [\n",
    "        [],#PropRange:\n",
    "        [],#NodesRange\n",
    "        [],#ElementsRange\n",
    "        [],#In_Conds_URange\n",
    "        []#In_Conds_FRange\n",
    "    ]\n",
    "    dataRowCounter(lines,varNames,rowCounter)\n",
    "    rangeMaker(rangeCounter,rowCounter)\n",
    "    dataToArray(varArray,rangeCounter,lines)\n",
    "    arrayCleaner(varArray)\n",
    "    dataPrinter(varArray)"
   ]
  },
  {
   "cell_type": "code",
   "execution_count": 268,
   "metadata": {
    "tags": []
   },
   "outputs": [
    {
     "output_type": "stream",
     "name": "stdout",
     "text": "[['0', '7800', '1000', '0.3']]\n[['0', '0', '0'], ['1', '1', '1'], ['2', '2', '1']]\n[['0', '0', '1', '0'], ['1', '1', '2', '0']]\n[['0', '0', '1', '1']]\n[['0', '1', '3', '4']]\n"
    }
   ],
   "source": [
    "csv_toVar('Test.csv',variablesArray)"
   ]
  },
  {
   "cell_type": "code",
   "execution_count": 269,
   "metadata": {
    "tags": []
   },
   "outputs": [
    {
     "output_type": "stream",
     "name": "stdout",
     "text": "[['0', '7800', '1000', '0.3']]\n[['0', '0', '0'], ['1', '1', '1'], ['2', '2', '1']]\n[['0', '0', '1', '0'], ['1', '1', '2', '0']]\n[['0', '0', '1', '1']]\n[['0', '1', '3', '4']]\n"
    }
   ],
   "source": [
    "prop = []\n",
    "nodes = []\n",
    "elements = []\n",
    "condU = []\n",
    "condF  = []\n",
    "\n",
    "variablesArray =[\n",
    "    prop, #P_id;dens;E;v;A\n",
    "    nodes,#N_id;x;y;;\n",
    "    elements,#E_id;from;to;prop;\n",
    "    condU,#I_U_id;N_id;u_x;u_y;\n",
    "    condF#I_F_id;N_id;Fx;Fy;\n",
    "]\n",
    "csv_toVar('Test.csv',variablesArray)"
   ]
  },
  {
   "cell_type": "code",
   "execution_count": 270,
   "metadata": {},
   "outputs": [],
   "source": [
    "import math\n",
    "import numpy as np"
   ]
  },
  {
   "cell_type": "code",
   "execution_count": 271,
   "metadata": {},
   "outputs": [],
   "source": [
    "class Element:\n",
    "    def __init__(self,id_E,propert,node,element):\n",
    "        id_E = int(id_E)\n",
    "        elementRow = 0\n",
    "        self.x = [0,0] \n",
    "        self.y = [0,0]\n",
    "\n",
    "        for row in element:\n",
    "          if int(row[0]) == id_E:\n",
    "              elementRow = row\n",
    "\n",
    "        self.nodeNum =[\n",
    "         int(elementRow[1])*2,\n",
    "         int(elementRow[1])*2+1,\n",
    "         int(elementRow[2])*2,\n",
    "         int(elementRow[2])*2+1\n",
    "        ]\n",
    "            \n",
    "\n",
    "        for row in propert:\n",
    "            if int(elementRow[3]) == int(row[0]):      \n",
    "                self.dens = float(row[1])\n",
    "                self.E = float(row[2])\n",
    "                self.v = float(row[3])\n",
    "                self.A = 1 #TODO implementation of A into csv\n",
    "                #self.A = float(row[4])\n",
    "\n",
    "        for row in node:\n",
    "            if int(elementRow[1]) == int(row[0]):\n",
    "                self.x[0] =float(row[1])\n",
    "                self.y[0] =float(row[2])\n",
    "\n",
    "        for row in node:\n",
    "            if int(elementRow[2]) == int(row[0]):\n",
    "                self.x[1] =float(row[1])\n",
    "                self.y[1] =float(row[2])        \n",
    "\n",
    "        self.L = math.sqrt((self.x[0]-self.x[1])**2+(self.y[0]-self.y[1])**2)\n",
    "\n",
    "        if self.y[1]-self.y[0] == 0:\n",
    "            if self.x[1]-self.x[0] > 0:\n",
    "                self.alfa = 0*math.pi/180\n",
    "            elif self.x[1]-self.x[0] < 0:\n",
    "                self.alfa = 180*math.pi/180\n",
    "        elif self.x[1]-self.x[0] == 0:\n",
    "            if self.y[1]-self.y[0] > 0:\n",
    "                self.alfa = 90*math.pi/180\n",
    "            elif self.y[1]-self.y[0] < 0:\n",
    "                self.alfa = 270*math.pi/180\n",
    "        else:\n",
    "            self.alfa = math.atan(self.y[1]-self.y[0])/(self.x[1]-self.x[0]) \n",
    "\n",
    "        self.kElementMartix = np.array([\n",
    "            [math.cos(self.alfa)**2,math.cos(self.alfa)*math.cos(self.alfa),-math.cos(self.alfa)**2,-math.cos(self.alfa)*math.cos(self.alfa)],\n",
    "            [math.cos(self.alfa)*math.cos(self.alfa),math.sin(self.alfa)**2,-math.cos(self.alfa)*math.cos(self.alfa),-math.sin(self.alfa)**2],\n",
    "            [-math.cos(self.alfa)**2,-math.cos(self.alfa)*math.cos(self.alfa),math.cos(self.alfa)**2,math.cos(self.alfa)*math.cos(self.alfa)],\n",
    "            [-math.cos(self.alfa)*math.cos(self.alfa),-math.sin(self.alfa)**2,math.cos(self.alfa)*math.cos(self.alfa),math.sin(self.alfa)**2]\n",
    "            ])\n",
    "        self.kElementMartix *=  (self.A*self.E/self.L)\n",
    "\n",
    "    def printEr(self):\n",
    "        print(self.x)\n",
    "        print(self.y)\n",
    "        print(self.dens)\n",
    "        print(self.E)\n",
    "        print(self.v)\n",
    "        print(self.A)\n",
    "        print(self.L)\n",
    "        print(self.alfa)\n",
    "        print(self.kElementMartix)\n",
    "        print(self.nodeNum)"
   ]
  },
  {
   "cell_type": "code",
   "execution_count": 272,
   "metadata": {
    "tags": []
   },
   "outputs": [
    {
     "output_type": "stream",
     "name": "stdout",
     "text": "[0.0, 1.0]\n[0.0, 1.0]\n7800.0\n1000.0\n0.3\n1\n1.4142135623730951\n0.7853981633974483\n[[ 353.55339059  353.55339059 -353.55339059 -353.55339059]\n [ 353.55339059  353.55339059 -353.55339059 -353.55339059]\n [-353.55339059 -353.55339059  353.55339059  353.55339059]\n [-353.55339059 -353.55339059  353.55339059  353.55339059]]\n[0, 1, 2, 3]\n"
    }
   ],
   "source": [
    "e0 =  Element(0,prop,nodes,elements)\n",
    "e0.printEr()"
   ]
  },
  {
   "cell_type": "code",
   "execution_count": 273,
   "metadata": {},
   "outputs": [],
   "source": [
    "import matplotlib.pyplot as plt"
   ]
  },
  {
   "cell_type": "code",
   "execution_count": 274,
   "metadata": {},
   "outputs": [],
   "source": [
    "def elementsMaker(array,eContainer):\n",
    "    for e in array[2]:\n",
    "        eContainer.append(Element(e[0],array[0],array[1],array[2]))\n",
    "    for x in eContainer:\n",
    "        print(x.kElementMartix)"
   ]
  },
  {
   "cell_type": "code",
   "execution_count": 275,
   "metadata": {
    "tags": []
   },
   "outputs": [
    {
     "output_type": "stream",
     "name": "stdout",
     "text": "[[ 353.55339059  353.55339059 -353.55339059 -353.55339059]\n [ 353.55339059  353.55339059 -353.55339059 -353.55339059]\n [-353.55339059 -353.55339059  353.55339059  353.55339059]\n [-353.55339059 -353.55339059  353.55339059  353.55339059]]\n[[ 1000.  1000. -1000. -1000.]\n [ 1000.     0. -1000.    -0.]\n [-1000. -1000.  1000.  1000.]\n [-1000.    -0.  1000.     0.]]\n"
    }
   ],
   "source": [
    "elementsContainer = []\n",
    "elementsMaker(variablesArray,elementsContainer)"
   ]
  },
  {
   "cell_type": "code",
   "execution_count": 276,
   "metadata": {
    "tags": []
   },
   "outputs": [],
   "source": [
    "def globalKMxMaker(kMx,elem):\n",
    "    print(len(elem[0].kElementMartix))\n",
    "    for e in elem:\n",
    "        for i in range(len(e.kElementMartix)):\n",
    "            for j in range(len(e.kElementMartix)):\n",
    "                #print(e.kElementMartix[i][j])\n",
    "                n1 = e.nodeNum[i]\n",
    "                n2 = e.nodeNum[j]\n",
    "                #print(n1,n2)\n",
    "                kMx[n1][n2] += e.kElementMartix[i][j]\n",
    "                #print(kMx[n1][n2])\n"
   ]
  },
  {
   "cell_type": "code",
   "execution_count": 283,
   "metadata": {},
   "outputs": [],
   "source": [
    "def fivePrec(array):\n",
    "    for i in range(len(array)):\n",
    "        for j in range(len(array)):\n",
    "            array[i][j] = format(array[i][j], \".5g\")"
   ]
  },
  {
   "cell_type": "code",
   "execution_count": 286,
   "metadata": {
    "tags": []
   },
   "outputs": [
    {
     "output_type": "stream",
     "name": "stdout",
     "text": "[[0. 0. 0. 0. 0. 0.]\n [0. 0. 0. 0. 0. 0.]\n [0. 0. 0. 0. 0. 0.]\n [0. 0. 0. 0. 0. 0.]\n [0. 0. 0. 0. 0. 0.]\n [0. 0. 0. 0. 0. 0.]]\n4\n[[  353.55   353.55  -353.55  -353.55     0.       0.  ]\n [  353.55   353.55  -353.55  -353.55     0.       0.  ]\n [ -353.55  -353.55  1353.6   1353.6  -1000.   -1000.  ]\n [ -353.55  -353.55  1353.6    353.55 -1000.       0.  ]\n [    0.       0.   -1000.   -1000.    1000.    1000.  ]\n [    0.       0.   -1000.       0.    1000.       0.  ]]\n"
    }
   ],
   "source": [
    "mxSize = len(variablesArray[1])*2\n",
    "globalKMx = np.zeros((mxSize,mxSize))\n",
    "print(globalKMx)\n",
    "globalKMxMaker(globalKMx,elementsContainer)\n",
    "fivePrec(globalKMx)\n",
    "print(globalKMx)"
   ]
  },
  {
   "cell_type": "code",
   "execution_count": 320,
   "metadata": {
    "tags": []
   },
   "outputs": [
    {
     "output_type": "stream",
     "name": "stdout",
     "text": "[[  353.55   353.55  -353.55  -353.55     0.       0.  ]\n [  353.55   353.55  -353.55  -353.55     0.       0.  ]\n [ -353.55  -353.55  1353.6   1353.6  -1000.   -1000.  ]\n [ -353.55  -353.55  1353.6    353.55 -1000.       0.  ]\n [    0.       0.   -1000.   -1000.    1000.    1000.  ]\n [    0.       0.   -1000.       0.    1000.       0.  ]]\n['0', '0', '1', '1']\n[[  353.55  -353.55     0.       0.  ]\n [ -353.55   353.55 -1000.       0.  ]\n [    0.   -1000.    1000.    1000.  ]\n [    0.       0.    1000.       0.  ]]\n"
    }
   ],
   "source": [
    "globalRedKMx = np.copy(globalKMx)\n",
    "print(globalRedKMx)\n",
    "#gr = np.delete(globalRedKMx,0,0) <-- array, what i, row/coloum\n",
    "def globalRedKMxMaker(kMx,inU):\n",
    "    for init in inU:\n",
    "        print(init)\n",
    "        if int(init[2]) == 1:\n",
    "            h1 = np.delete(kMx,int(init[1])*2,0)\n",
    "            h2 = np.delete(h1,int(init[1])*2,1)\n",
    "        kMx = np.copy(h2)\n",
    "        if int(init[3]) == 1:\n",
    "            h1 = np.delete(kMx,int(init[1])*2+1,0)\n",
    "            h2 = np.delete(h1,int(init[1])*2+1,1)\n",
    "        kMx = np.copy(h2)\n",
    "        return np.copy(h2)\n",
    "\n",
    "globalRedKMx = globalRedKMxMaker(globalRedKMx,variablesArray[3])\n",
    "print(globalRedKMx)"
   ]
  },
  {
   "cell_type": "code",
   "execution_count": 339,
   "metadata": {
    "tags": []
   },
   "outputs": [
    {
     "output_type": "stream",
     "name": "stdout",
     "text": "[[0.]\n [0.]\n [3.]\n [4.]\n [0.]\n [0.]]\n['0', '0', '1', '1']\n[[0.]\n [3.]\n [4.]\n [0.]\n [0.]]\n[[0.]\n [4.]\n [0.]\n [0.]]\n"
    }
   ],
   "source": [
    "def initFToArrayMaker(inF):\n",
    "    h1 = np.zeros((mxSize,1))\n",
    "\n",
    "    for i in inF:\n",
    "        for j in range(0,2):\n",
    "            h1[int(i[1])*2+j][0] = int(i[2+j])\n",
    "    return np.copy(h1)\n",
    "fMx = initFToArrayMaker(variablesArray[4])\n",
    "print(fMx)\n",
    "\n",
    "def fTofRed(inU,array):\n",
    "    fMxRed = np.copy(array)\n",
    "    for init in inU:\n",
    "        print(init)\n",
    "        if int(init[2]) == 1:\n",
    "            h1 = np.delete(fMxRed,int(init[1])*2,0)\n",
    "        print(h1)\n",
    "        fMxRed = np.copy(h1)\n",
    "        if int(init[3]) == 1:\n",
    "            h1 = np.delete(fMxRed,int(init[1])*2,0)\n",
    "    return np.copy(h1)\n",
    "fMxRed = fTofRed(variablesArray[3],fMx)\n",
    "print(fMxRed) #!!!!!!!!!!!!!BUG talán indexeléssel"
   ]
  },
  {
   "cell_type": "code",
   "execution_count": null,
   "metadata": {},
   "outputs": [],
   "source": []
  }
 ],
 "metadata": {
  "kernelspec": {
   "display_name": "Python 3",
   "language": "python",
   "name": "python3"
  },
  "language_info": {
   "codemirror_mode": {
    "name": "ipython",
    "version": 3
   },
   "file_extension": ".py",
   "mimetype": "text/x-python",
   "name": "python",
   "nbconvert_exporter": "python",
   "pygments_lexer": "ipython3",
   "version": "3.8.5-final"
  }
 },
 "nbformat": 4,
 "nbformat_minor": 4
}