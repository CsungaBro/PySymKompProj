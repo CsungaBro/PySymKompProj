{
 "cells": [
  {
   "cell_type": "code",
   "execution_count": 148,
   "metadata": {},
   "outputs": [],
   "source": [
    "import csv"
   ]
  },
  {
   "cell_type": "code",
   "execution_count": 149,
   "metadata": {},
   "outputs": [],
   "source": [
    "prop = []\n",
    "nodes = []\n",
    "elements = []\n",
    "condU = []\n",
    "condF  = []\n",
    "\n",
    "variablesArray =[\n",
    "    prop, #P_id;dens;E;v;A\n",
    "    nodes,#N_id;x;y;;\n",
    "    elements,#E_id;from;to;prop;\n",
    "    condU,#I_U_id;N_id;u_x;u_y;\n",
    "    condF#I_F_id;N_id;Fx;Fy;\n",
    "]"
   ]
  },
  {
   "cell_type": "code",
   "execution_count": 150,
   "metadata": {},
   "outputs": [],
   "source": [
    "def dataRowCounter(data,name,dataTo):\n",
    "    for i in range(len(data)):\n",
    "        for j in range(len(name)):\n",
    "            if data[i][0] == name[j]:\n",
    "                dataTo[j] = i + 2\n",
    "    dataTo[5] = len(data) + 2"
   ]
  },
  {
   "cell_type": "code",
   "execution_count": 151,
   "metadata": {},
   "outputs": [],
   "source": [
    "def rangeMaker(ranges,rows): \n",
    "    for i in range(len(ranges)):\n",
    "        ranges[i].append(rows[i])\n",
    "        ranges[i].append(rows[i+1]-2)"
   ]
  },
  {
   "cell_type": "code",
   "execution_count": 152,
   "metadata": {},
   "outputs": [],
   "source": [
    "def dataToArray(variab,rang,data):\n",
    "    for i in range(len(variab)):\n",
    "        h1 = rang[i][0]\n",
    "        h2 = rang[i][1]\n",
    "        for j in range(h1,h2):\n",
    "            variab[i].append(data[j])"
   ]
  },
  {
   "cell_type": "code",
   "execution_count": 153,
   "metadata": {},
   "outputs": [],
   "source": [
    "def arrayCleaner(array):\n",
    "    for data in array:\n",
    "        for row in data:\n",
    "            h1 = []\n",
    "            for i in range(len(row)):\n",
    "                if row[i] == '':\n",
    "                    h1.append(i)\n",
    "            h1.reverse()\n",
    "            for j in h1:\n",
    "                del row[j]"
   ]
  },
  {
   "cell_type": "code",
   "execution_count": 154,
   "metadata": {},
   "outputs": [],
   "source": [
    "def dataPrinter(data):\n",
    "    for i in data:\n",
    "        print(i)"
   ]
  },
  {
   "cell_type": "code",
   "execution_count": 155,
   "metadata": {},
   "outputs": [],
   "source": [
    "def csv_toVar(csv_File,varArray):\n",
    "    with open(csv_File, \"r\") as csv_file:\n",
    "        csv_reader = csv.reader(csv_file, delimiter =\";\")\n",
    "        lines = [line for line in csv_reader]\n",
    "    varNames=[\n",
    "        \"Prop\",\n",
    "        \"Nodes\",\n",
    "        \"Elements\",\n",
    "        \"In_Conds_U\",\n",
    "        \"In_Conds_F\",\n",
    "        \"End\"\n",
    "    ]\n",
    "    rowCounter = [\n",
    "        0,#Prop\n",
    "        0,#Nodes\n",
    "        0,#Elements\n",
    "        0,#In_Conds_U\n",
    "        0,#In_Conds_F\n",
    "        0,#End\n",
    "    ]\n",
    "    rangeCounter = [\n",
    "        [],#PropRange:\n",
    "        [],#NodesRange\n",
    "        [],#ElementsRange\n",
    "        [],#In_Conds_URange\n",
    "        []#In_Conds_FRange\n",
    "    ]\n",
    "    dataRowCounter(lines,varNames,rowCounter)\n",
    "    rangeMaker(rangeCounter,rowCounter)\n",
    "    dataToArray(varArray,rangeCounter,lines)\n",
    "    arrayCleaner(varArray)\n",
    "    dataPrinter(varArray)"
   ]
  },
  {
   "cell_type": "code",
   "execution_count": 156,
   "metadata": {},
   "outputs": [
    {
     "name": "stdout",
     "output_type": "stream",
     "text": [
      "[['0', '7800', '1000', '0.3']]\n",
      "[['0', '0', '0'], ['1', '1', '1'], ['2', '2', '1']]\n",
      "[['0', '0', '1', '0'], ['1', '1', '2', '0']]\n",
      "[['0', '0', '1', '1']]\n",
      "[['0', '1', '3', '4']]\n"
     ]
    }
   ],
   "source": [
    "csv_toVar('Test.csv',variablesArray)"
   ]
  },
  {
   "cell_type": "code",
   "execution_count": null,
   "metadata": {},
   "outputs": [],
   "source": []
  }
 ],
 "metadata": {
  "kernelspec": {
   "display_name": "Python 3",
   "language": "python",
   "name": "python3"
  },
  "language_info": {
   "codemirror_mode": {
    "name": "ipython",
    "version": 3
   },
   "file_extension": ".py",
   "mimetype": "text/x-python",
   "name": "python",
   "nbconvert_exporter": "python",
   "pygments_lexer": "ipython3",
   "version": "3.7.4"
  }
 },
 "nbformat": 4,
 "nbformat_minor": 4
}
